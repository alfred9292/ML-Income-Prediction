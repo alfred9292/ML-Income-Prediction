{
 "cells": [
  {
   "cell_type": "code",
   "execution_count": 1,
   "metadata": {},
   "outputs": [],
   "source": [
    "import pandas as pd\n",
    "import numpy as np\n",
    "from sklearn import preprocessing\n",
    "from sklearn.metrics import accuracy_score\n",
    "from sklearn.metrics import classification_report\n",
    "from sklearn.model_selection import KFold\n",
    "from sklearn.svm import SVC\n",
    "import time\n",
    "from sklearn.metrics import accuracy_score,confusion_matrix,roc_curve,auc,roc_auc_score\n",
    "import matplotlib.pyplot as plt\n",
    "from sklearn.preprocessing import scale"
   ]
  },
  {
   "cell_type": "code",
   "execution_count": 2,
   "metadata": {},
   "outputs": [],
   "source": [
    "#read data \n",
    "traindata = pd.read_csv(\"adult.data\",names=['age','workclass','fnlwgt','education',' education-num',\n",
    "'marital_status','occupation','relationship','race','sex',\n",
    "'capital-gain','capital-loss','hours-per-week','native_country','income'])\n",
    "testdata = pd.read_csv(\"adult.test\",names=['age','workclass','fnlwgt','education',' education-num',\n",
    "'marital_status','occupation','relationship','race','sex',\n",
    "'capital-gain','capital-loss','hours-per-week','native_country','income'],skiprows=1)"
   ]
  },
  {
   "cell_type": "code",
   "execution_count": 3,
   "metadata": {},
   "outputs": [],
   "source": [
    "start_time = time.time() #start time"
   ]
  },
  {
   "cell_type": "code",
   "execution_count": 4,
   "metadata": {},
   "outputs": [],
   "source": [
    "#delete the empty column\n",
    "traindata = traindata.replace(' ?', np.nan).dropna()\n",
    "testdata = testdata.replace(' ?', np.nan).dropna()"
   ]
  },
  {
   "cell_type": "code",
   "execution_count": 5,
   "metadata": {},
   "outputs": [],
   "source": [
    "testdata['income'] = testdata.income.replace({' <=50K.': ' <=50K', ' >50K.': ' >50K'})"
   ]
  },
  {
   "cell_type": "code",
   "execution_count": 6,
   "metadata": {},
   "outputs": [],
   "source": [
    "for feature in traindata.columns: # Loop through all columns in the dataframe\n",
    "    if traindata[feature].dtype == 'object': # Only apply for columns with categorical strings\n",
    "        traindata[feature] = pd.Categorical(traindata[feature]).codes # Replace strings with an integer\n",
    "for feature in testdata.columns: # Loop through all columns in the dataframe\n",
    "    if testdata[feature].dtype == 'object': # Only apply for columns with categorical strings\n",
    "        testdata[feature] = pd.Categorical(testdata[feature]).codes # Replace strings with an integer"
   ]
  },
  {
   "cell_type": "code",
   "execution_count": 7,
   "metadata": {},
   "outputs": [],
   "source": [
    "#reindex the dataframe\n",
    "newindex = range(len(traindata))\n",
    "traindata['c'] = newindex\n",
    "traindata = traindata.set_index('c')"
   ]
  },
  {
   "cell_type": "code",
   "execution_count": 8,
   "metadata": {},
   "outputs": [],
   "source": [
    "#split label and data\n",
    "trainlabel = traindata.pop('income')\n",
    "testlablel = testdata.pop('income')"
   ]
  },
  {
   "cell_type": "code",
   "execution_count": 9,
   "metadata": {},
   "outputs": [
    {
     "name": "stderr",
     "output_type": "stream",
     "text": [
      "/anaconda3/envs/py3/lib/python3.6/site-packages/ipykernel/__main__.py:1: DataConversionWarning: Data with input dtype int8, int64 were all converted to float64 by the scale function.\n",
      "  if __name__ == '__main__':\n",
      "/anaconda3/envs/py3/lib/python3.6/site-packages/ipykernel/__main__.py:2: DataConversionWarning: Data with input dtype int8, int64 were all converted to float64 by the scale function.\n",
      "  from ipykernel import kernelapp as app\n"
     ]
    }
   ],
   "source": [
    "#standardizing the data\n",
    "traindata = scale(traindata)\n",
    "testdata = scale (testdata)"
   ]
  },
  {
   "cell_type": "code",
   "execution_count": 10,
   "metadata": {},
   "outputs": [],
   "source": [
    "#define the svm classifier \n",
    "clf = SVC(gamma='auto',probability=True)"
   ]
  },
  {
   "cell_type": "code",
   "execution_count": 11,
   "metadata": {},
   "outputs": [
    {
     "name": "stdout",
     "output_type": "stream",
     "text": [
      "              precision    recall  f1-score   support\n",
      "\n",
      "           0       0.85      0.93      0.89      2236\n",
      "           1       0.74      0.53      0.62       781\n",
      "\n",
      "   micro avg       0.83      0.83      0.83      3017\n",
      "   macro avg       0.80      0.73      0.76      3017\n",
      "weighted avg       0.82      0.83      0.82      3017\n",
      "\n",
      "accuracy: 0.8306264501160093\n",
      "[[2089  147]\n",
      " [ 364  417]]\n",
      "              precision    recall  f1-score   support\n",
      "\n",
      "           0       0.87      0.94      0.90      2289\n",
      "           1       0.75      0.55      0.63       728\n",
      "\n",
      "   micro avg       0.85      0.85      0.85      3017\n",
      "   macro avg       0.81      0.75      0.77      3017\n",
      "weighted avg       0.84      0.85      0.84      3017\n",
      "\n",
      "accuracy: 0.8471992045077892\n",
      "[[2156  133]\n",
      " [ 328  400]]\n",
      "              precision    recall  f1-score   support\n",
      "\n",
      "           0       0.87      0.94      0.91      2309\n",
      "           1       0.74      0.56      0.64       707\n",
      "\n",
      "   micro avg       0.85      0.85      0.85      3016\n",
      "   macro avg       0.81      0.75      0.77      3016\n",
      "weighted avg       0.84      0.85      0.84      3016\n",
      "\n",
      "accuracy: 0.8514588859416445\n",
      "[[2174  135]\n",
      " [ 313  394]]\n",
      "              precision    recall  f1-score   support\n",
      "\n",
      "           0       0.86      0.94      0.90      2256\n",
      "           1       0.75      0.53      0.62       760\n",
      "\n",
      "   micro avg       0.84      0.84      0.84      3016\n",
      "   macro avg       0.80      0.73      0.76      3016\n",
      "weighted avg       0.83      0.84      0.83      3016\n",
      "\n",
      "accuracy: 0.8358753315649867\n",
      "[[2120  136]\n",
      " [ 359  401]]\n",
      "              precision    recall  f1-score   support\n",
      "\n",
      "           0       0.87      0.94      0.90      2264\n",
      "           1       0.75      0.57      0.64       752\n",
      "\n",
      "   micro avg       0.84      0.84      0.84      3016\n",
      "   macro avg       0.81      0.75      0.77      3016\n",
      "weighted avg       0.84      0.84      0.84      3016\n",
      "\n",
      "accuracy: 0.8444960212201591\n",
      "[[2122  142]\n",
      " [ 327  425]]\n",
      "              precision    recall  f1-score   support\n",
      "\n",
      "           0       0.87      0.94      0.90      2287\n",
      "           1       0.75      0.56      0.64       729\n",
      "\n",
      "   micro avg       0.85      0.85      0.85      3016\n",
      "   macro avg       0.81      0.75      0.77      3016\n",
      "weighted avg       0.84      0.85      0.84      3016\n",
      "\n",
      "accuracy: 0.8498010610079576\n",
      "[[2153  134]\n",
      " [ 319  410]]\n",
      "              precision    recall  f1-score   support\n",
      "\n",
      "           0       0.86      0.94      0.90      2269\n",
      "           1       0.75      0.53      0.63       747\n",
      "\n",
      "   micro avg       0.84      0.84      0.84      3016\n",
      "   macro avg       0.81      0.74      0.76      3016\n",
      "weighted avg       0.83      0.84      0.83      3016\n",
      "\n",
      "accuracy: 0.8415119363395226\n",
      "[[2139  130]\n",
      " [ 348  399]]\n",
      "              precision    recall  f1-score   support\n",
      "\n",
      "           0       0.87      0.95      0.91      2244\n",
      "           1       0.80      0.57      0.67       772\n",
      "\n",
      "   micro avg       0.85      0.85      0.85      3016\n",
      "   macro avg       0.83      0.76      0.79      3016\n",
      "weighted avg       0.85      0.85      0.85      3016\n",
      "\n",
      "accuracy: 0.8544429708222812\n",
      "[[2134  110]\n",
      " [ 329  443]]\n",
      "              precision    recall  f1-score   support\n",
      "\n",
      "           0       0.86      0.94      0.90      2253\n",
      "           1       0.77      0.55      0.64       763\n",
      "\n",
      "   micro avg       0.85      0.85      0.85      3016\n",
      "   macro avg       0.82      0.75      0.77      3016\n",
      "weighted avg       0.84      0.85      0.84      3016\n",
      "\n",
      "accuracy: 0.8454907161803713\n",
      "[[2128  125]\n",
      " [ 341  422]]\n",
      "              precision    recall  f1-score   support\n",
      "\n",
      "           0       0.86      0.93      0.90      2247\n",
      "           1       0.74      0.56      0.64       769\n",
      "\n",
      "   micro avg       0.84      0.84      0.84      3016\n",
      "   macro avg       0.80      0.75      0.77      3016\n",
      "weighted avg       0.83      0.84      0.83      3016\n",
      "\n",
      "accuracy: 0.8381962864721485\n",
      "[[2096  151]\n",
      " [ 337  432]]\n"
     ]
    }
   ],
   "source": [
    "kf = KFold(n_splits=10,shuffle=False) #10 fold\n",
    "for train,test in kf.split(traindata):\n",
    "    Train_Set = traindata[train]  #train dataset\n",
    "    TrainLabel = (trainlabel[train])#trainlabel\n",
    "    Test_Set = traindata[test]#test dataset\n",
    "    TestLabel = trainlabel[test] #testlabel\n",
    "    clf.fit(Train_Set, TrainLabel) # train the classifier\n",
    "    predict_label = clf.predict(Test_Set)  #predict \n",
    "    cm = confusion_matrix(TestLabel, predict_label) # confusion matrix\n",
    "    print (classification_report(TestLabel, predict_label)) #print the precision recall and f1\n",
    "    print('accuracy:',accuracy_score(TestLabel, predict_label)) #print accuracy \n",
    "    print(cm)"
   ]
  },
  {
   "cell_type": "code",
   "execution_count": 12,
   "metadata": {},
   "outputs": [
    {
     "name": "stdout",
     "output_type": "stream",
     "text": [
      "--- 873.1590149402618 seconds ---\n"
     ]
    }
   ],
   "source": [
    "print(\"--- %s seconds ---\" % (time.time() - start_time)) #runtime"
   ]
  },
  {
   "cell_type": "code",
   "execution_count": 13,
   "metadata": {},
   "outputs": [
    {
     "name": "stdout",
     "output_type": "stream",
     "text": [
      "              precision    recall  f1-score   support\n",
      "\n",
      "           0       0.87      0.94      0.90     11360\n",
      "           1       0.75      0.55      0.64      3700\n",
      "\n",
      "   micro avg       0.85      0.85      0.85     15060\n",
      "   macro avg       0.81      0.75      0.77     15060\n",
      "weighted avg       0.84      0.85      0.84     15060\n",
      "\n",
      "accuracy: 0.8451527224435591\n",
      "[[10695   665]\n",
      " [ 1667  2033]]\n"
     ]
    }
   ],
   "source": [
    "#predict the data and print result\n",
    "predict_test = clf.predict(testdata) \n",
    "cm = confusion_matrix(testlablel, predict_test)\n",
    "print (classification_report(testlablel, predict_test))\n",
    "print('accuracy:',accuracy_score(testlablel, predict_test))\n",
    "print(cm)"
   ]
  },
  {
   "cell_type": "code",
   "execution_count": 14,
   "metadata": {},
   "outputs": [
    {
     "name": "stdout",
     "output_type": "stream",
     "text": [
      "AUC Score : 0.887821\n"
     ]
    },
    {
     "data": {
      "image/png": "[encoded data removed]",
      "text/plain": [
       "<Figure size 432x288 with 1 Axes>"
      ]
     },
     "metadata": {},
     "output_type": "display_data"
    }
   ],
   "source": [
    "# calculate the auc score and draw the roc curve\n",
    "y_pred_rf = clf.predict_proba(testdata)[:, 1]\n",
    "fpr_rf, tpr_rf, _ = roc_curve(testlablel, y_pred_rf)\n",
    "print(\"AUC Score : %f\" %roc_auc_score(testlablel, y_pred_rf))\n",
    "plt.figure(1)\n",
    "plt.plot([0, 1], [0, 1], 'k--')\n",
    "plt.plot(fpr_rf, tpr_rf, label='svm')\n",
    "plt.xlabel('False positive rate')\n",
    "plt.ylabel('True positive rate')\n",
    "plt.title('ROC curve')\n",
    "plt.legend(loc='best')\n",
    "plt.show()"
   ]
  }
 ],
 "metadata": {
  "kernelspec": {
   "display_name": "Python [conda env:py3]",
   "language": "python",
   "name": "conda-env-py3-py"
  },
  "language_info": {
   "codemirror_mode": {
    "name": "ipython",
    "version": 3
   },
   "file_extension": ".py",
   "mimetype": "text/x-python",
   "name": "python",
   "nbconvert_exporter": "python",
   "pygments_lexer": "ipython3",
   "version": "3.6.4"
  }
 },
 "nbformat": 4,
 "nbformat_minor": 2
}
