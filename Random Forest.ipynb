{
 "cells": [
  {
   "cell_type": "code",
   "execution_count": 5,
   "metadata": {},
   "outputs": [],
   "source": [
    "import pandas as pd\n",
    "import numpy as np\n",
    "from sklearn import preprocessing\n",
    "from sklearn.metrics import accuracy_score\n",
    "from sklearn.metrics import classification_report\n",
    "from sklearn.model_selection import KFold\n",
    "from sklearn.ensemble import RandomForestClassifier\n",
    "from sklearn.metrics import accuracy_score,confusion_matrix,roc_curve,auc,roc_auc_score\n",
    "import matplotlib.pyplot as plt\n",
    "import time\n",
    "from sklearn.preprocessing import scale"
   ]
  },
  {
   "cell_type": "code",
   "execution_count": 6,
   "metadata": {},
   "outputs": [],
   "source": [
    "#load the data\n",
    "traindata = pd.read_csv(\"adult.data\",names=['age','workclass','fnlwgt','education',' education-num',\n",
    "'marital_status','occupation','relationship','race','sex',\n",
    "'capital-gain','capital-loss','hours-per-week','native_country','income'])\n",
    "testdata = pd.read_csv(\"adult.test\",names=['age','workclass','fnlwgt','education',' education-num',\n",
    "'marital_status','occupation','relationship','race','sex',\n",
    "'capital-gain','capital-loss','hours-per-week','native_country','income'],skiprows=1)"
   ]
  },
  {
   "cell_type": "code",
   "execution_count": 7,
   "metadata": {},
   "outputs": [],
   "source": [
    "start_time = time.time() #start time"
   ]
  },
  {
   "cell_type": "code",
   "execution_count": 8,
   "metadata": {},
   "outputs": [],
   "source": [
    "#remove the NaN value\n",
    "train_remove = traindata.replace(' ?', np.nan).dropna()\n",
    "test_remove = testdata.replace(' ?', np.nan).dropna()\n"
   ]
  },
  {
   "cell_type": "code",
   "execution_count": 9,
   "metadata": {},
   "outputs": [],
   "source": [
    "#replace the data in test set\n",
    "test_remove['income'] = test_remove.income.replace({' <=50K.': ' <=50K', ' >50K.': ' >50K'})"
   ]
  },
  {
   "cell_type": "code",
   "execution_count": 10,
   "metadata": {},
   "outputs": [],
   "source": [
    "# convert into numbers \n",
    "for feature in train_remove.columns: # Loop through all columns in the dataframe\n",
    "    if train_remove[feature].dtype == 'object': # Only apply for columns with categorical strings\n",
    "        train_remove[feature] = pd.Categorical(train_remove[feature]).codes # Replace strings with an integer\n",
    "for feature in test_remove.columns: # Loop through all columns in the dataframe\n",
    "    if test_remove[feature].dtype == 'object': # Only apply for columns with categorical strings\n",
    "        test_remove[feature] = pd.Categorical(test_remove[feature]).codes # Replace strings with an integer"
   ]
  },
  {
   "cell_type": "code",
   "execution_count": 11,
   "metadata": {},
   "outputs": [],
   "source": [
    "#reindex the dataframe\n",
    "newindex = range(len(train_remove))\n",
    "train_remove['c'] = newindex\n",
    "train_remove = train_remove.set_index('c')"
   ]
  },
  {
   "cell_type": "code",
   "execution_count": 12,
   "metadata": {},
   "outputs": [],
   "source": [
    "#splict the label and data\n",
    "trainlabel = train_remove.pop('income')\n",
    "testlabel = test_remove.pop('income')"
   ]
  },
  {
   "cell_type": "code",
   "execution_count": 13,
   "metadata": {},
   "outputs": [
    {
     "name": "stderr",
     "output_type": "stream",
     "text": [
      "/anaconda3/envs/py3/lib/python3.6/site-packages/ipykernel/__main__.py:1: DataConversionWarning: Data with input dtype int8, int64 were all converted to float64 by the scale function.\n",
      "  if __name__ == '__main__':\n",
      "/anaconda3/envs/py3/lib/python3.6/site-packages/ipykernel/__main__.py:2: DataConversionWarning: Data with input dtype int8, int64 were all converted to float64 by the scale function.\n",
      "  from ipykernel import kernelapp as app\n"
     ]
    }
   ],
   "source": [
    "#standardizing the data\n",
    "traindata = scale(train_remove)\n",
    "testdata = scale (test_remove)"
   ]
  },
  {
   "cell_type": "code",
   "execution_count": 14,
   "metadata": {
    "scrolled": false
   },
   "outputs": [
    {
     "name": "stdout",
     "output_type": "stream",
     "text": [
      "              precision    recall  f1-score   support\n",
      "\n",
      "           0       0.87      0.92      0.90      2236\n",
      "           1       0.74      0.62      0.67       781\n",
      "\n",
      "   micro avg       0.84      0.84      0.84      3017\n",
      "   macro avg       0.81      0.77      0.79      3017\n",
      "weighted avg       0.84      0.84      0.84      3017\n",
      "\n",
      "accuracy: 0.8442161087172688\n",
      "[[2061  175]\n",
      " [ 295  486]]\n",
      "              precision    recall  f1-score   support\n",
      "\n",
      "           0       0.89      0.93      0.91      2289\n",
      "           1       0.74      0.62      0.68       728\n",
      "\n",
      "   micro avg       0.86      0.86      0.86      3017\n",
      "   macro avg       0.81      0.78      0.79      3017\n",
      "weighted avg       0.85      0.86      0.85      3017\n",
      "\n",
      "accuracy: 0.8568114020550216\n",
      "[[2131  158]\n",
      " [ 274  454]]\n",
      "              precision    recall  f1-score   support\n",
      "\n",
      "           0       0.89      0.92      0.91      2309\n",
      "           1       0.71      0.61      0.66       707\n",
      "\n",
      "   micro avg       0.85      0.85      0.85      3016\n",
      "   macro avg       0.80      0.77      0.78      3016\n",
      "weighted avg       0.85      0.85      0.85      3016\n",
      "\n",
      "accuracy: 0.8514588859416445\n",
      "[[2134  175]\n",
      " [ 273  434]]\n",
      "              precision    recall  f1-score   support\n",
      "\n",
      "           0       0.88      0.93      0.90      2256\n",
      "           1       0.74      0.62      0.67       760\n",
      "\n",
      "   micro avg       0.85      0.85      0.85      3016\n",
      "   macro avg       0.81      0.77      0.79      3016\n",
      "weighted avg       0.84      0.85      0.84      3016\n",
      "\n",
      "accuracy: 0.8498010610079576\n",
      "[[2094  162]\n",
      " [ 291  469]]\n",
      "              precision    recall  f1-score   support\n",
      "\n",
      "           0       0.88      0.92      0.90      2264\n",
      "           1       0.73      0.63      0.68       752\n",
      "\n",
      "   micro avg       0.85      0.85      0.85      3016\n",
      "   macro avg       0.81      0.78      0.79      3016\n",
      "weighted avg       0.84      0.85      0.85      3016\n",
      "\n",
      "accuracy: 0.8494694960212201\n",
      "[[2089  175]\n",
      " [ 279  473]]\n",
      "              precision    recall  f1-score   support\n",
      "\n",
      "           0       0.89      0.92      0.91      2287\n",
      "           1       0.73      0.65      0.69       729\n",
      "\n",
      "   micro avg       0.86      0.86      0.86      3016\n",
      "   macro avg       0.81      0.79      0.80      3016\n",
      "weighted avg       0.85      0.86      0.85      3016\n",
      "\n",
      "accuracy: 0.8561007957559682\n",
      "[[2109  178]\n",
      " [ 256  473]]\n",
      "              precision    recall  f1-score   support\n",
      "\n",
      "           0       0.88      0.93      0.91      2269\n",
      "           1       0.75      0.62      0.68       747\n",
      "\n",
      "   micro avg       0.86      0.86      0.86      3016\n",
      "   macro avg       0.82      0.78      0.79      3016\n",
      "weighted avg       0.85      0.86      0.85      3016\n",
      "\n",
      "accuracy: 0.8557692307692307\n",
      "[[2119  150]\n",
      " [ 285  462]]\n",
      "              precision    recall  f1-score   support\n",
      "\n",
      "           0       0.89      0.94      0.91      2244\n",
      "           1       0.78      0.66      0.71       772\n",
      "\n",
      "   micro avg       0.87      0.87      0.87      3016\n",
      "   macro avg       0.83      0.80      0.81      3016\n",
      "weighted avg       0.86      0.87      0.86      3016\n",
      "\n",
      "accuracy: 0.8650530503978779\n",
      "[[2101  143]\n",
      " [ 264  508]]\n",
      "              precision    recall  f1-score   support\n",
      "\n",
      "           0       0.89      0.93      0.91      2253\n",
      "           1       0.77      0.64      0.70       763\n",
      "\n",
      "   micro avg       0.86      0.86      0.86      3016\n",
      "   macro avg       0.83      0.79      0.80      3016\n",
      "weighted avg       0.86      0.86      0.86      3016\n",
      "\n",
      "accuracy: 0.860079575596817\n",
      "[[2104  149]\n",
      " [ 273  490]]\n",
      "              precision    recall  f1-score   support\n",
      "\n",
      "           0       0.88      0.92      0.90      2247\n",
      "           1       0.74      0.65      0.69       769\n",
      "\n",
      "   micro avg       0.85      0.85      0.85      3016\n",
      "   macro avg       0.81      0.79      0.80      3016\n",
      "weighted avg       0.85      0.85      0.85      3016\n",
      "\n",
      "accuracy: 0.851790450928382\n",
      "[[2069  178]\n",
      " [ 269  500]]\n"
     ]
    }
   ],
   "source": [
    "kf = KFold(n_splits=10,shuffle=False)\n",
    "forest = RandomForestClassifier(n_estimators=1000, random_state=0, n_jobs=-1) #define the randomforest classifier\n",
    "accuracy = []\n",
    "for train,test in kf.split(traindata):\n",
    "    Train_Set = traindata[train]\n",
    "    TrainLabel = (trainlabel[train])\n",
    "    Test_Set = traindata[test]\n",
    "    TestLabel = trainlabel[test]\n",
    "    forest.fit(Train_Set, TrainLabel) #train the classifier\n",
    "    predict_label = forest.predict(Test_Set) # predict the label \n",
    "    cm = confusion_matrix(TestLabel, predict_label) #confusion matrix\n",
    "    print (classification_report(TestLabel, predict_label))\n",
    "    print('accuracy:',accuracy_score(TestLabel, predict_label))\n",
    "    print(cm)"
   ]
  },
  {
   "cell_type": "code",
   "execution_count": 15,
   "metadata": {},
   "outputs": [
    {
     "name": "stdout",
     "output_type": "stream",
     "text": [
      "--- 124.95970702171326 seconds ---\n"
     ]
    }
   ],
   "source": [
    "print(\"--- %s seconds ---\" % (time.time() - start_time)) #runtime"
   ]
  },
  {
   "cell_type": "code",
   "execution_count": 16,
   "metadata": {},
   "outputs": [
    {
     "name": "stdout",
     "output_type": "stream",
     "text": [
      "              precision    recall  f1-score   support\n",
      "\n",
      "           0       0.88      0.92      0.90     11360\n",
      "           1       0.72      0.61      0.66      3700\n",
      "\n",
      "   micro avg       0.85      0.85      0.85     15060\n",
      "   macro avg       0.80      0.77      0.78     15060\n",
      "weighted avg       0.84      0.85      0.84     15060\n",
      "\n",
      "accuracy: 0.8477423638778221\n",
      "[[10495   865]\n",
      " [ 1428  2272]]\n"
     ]
    }
   ],
   "source": [
    "# predict the data in the test set  and show the result \n",
    "predict_test = forest.predict(testdata)\n",
    "cm = confusion_matrix(testlabel, predict_test)\n",
    "print (classification_report(testlabel, predict_test))\n",
    "print('accuracy:',accuracy_score(testlabel, predict_test))\n",
    "print(cm)"
   ]
  },
  {
   "cell_type": "code",
   "execution_count": 17,
   "metadata": {},
   "outputs": [
    {
     "name": "stdout",
     "output_type": "stream",
     "text": [
      "AUC Score : 0.901905\n"
     ]
    },
    {
     "data": {
      "image/png": "[encoded data removed]",
      "text/plain": [
       "<Figure size 432x288 with 1 Axes>"
      ]
     },
     "metadata": {},
     "output_type": "display_data"
    }
   ],
   "source": [
    "#calculate the auc score and draw the roc curve\n",
    "y_pred_rf = forest.predict_proba(testdata)[:, 1]\n",
    "fpr_rf, tpr_rf, _ = roc_curve(testlabel, y_pred_rf)\n",
    "print(\"AUC Score : %f\" %roc_auc_score(testlabel, y_pred_rf))\n",
    "plt.figure(1)\n",
    "plt.plot([0, 1], [0, 1], 'k--')\n",
    "plt.plot(fpr_rf, tpr_rf, label='RF')\n",
    "plt.xlabel('False positive rate')\n",
    "plt.ylabel('True positive rate')\n",
    "plt.title('ROC curve')\n",
    "plt.legend(loc='best')\n",
    "plt.show()"
   ]
  },
  {
   "cell_type": "code",
   "execution_count": 18,
   "metadata": {},
   "outputs": [
    {
     "data": {
      "text/plain": [
       "Text(0,0.5,'Feature Importance Score')"
      ]
     },
     "execution_count": 18,
     "metadata": {},
     "output_type": "execute_result"
    },
    {
     "data": {
      "image/png": "[encoded data removed]",
      "text/plain": [
       "<Figure size 432x288 with 1 Axes>"
      ]
     },
     "metadata": {},
     "output_type": "display_data"
    }
   ],
   "source": [
    "#show the feature importance\n",
    "feat_imp = pd.Series(forest.feature_importances_,index =['age','workclass','fnlwgt','education',' education-num',\n",
    "'marital_status','occupation','relationship','race','sex',\n",
    "'capital-gain','capital-loss','hours-per-week','native_country']).sort_values(ascending=False)\n",
    "feat_imp = feat_imp.drop('fnlwgt')\n",
    "feat_imp.plot(kind='bar', title='Feature Importances')\n",
    "plt.ylabel('Feature Importance Score')"
   ]
  }
 ],
 "metadata": {
  "kernelspec": {
   "display_name": "Python [conda env:py3]",
   "language": "python",
   "name": "conda-env-py3-py"
  },
  "language_info": {
   "codemirror_mode": {
    "name": "ipython",
    "version": 3
   },
   "file_extension": ".py",
   "mimetype": "text/x-python",
   "name": "python",
   "nbconvert_exporter": "python",
   "pygments_lexer": "ipython3",
   "version": "3.6.4"
  }
 },
 "nbformat": 4,
 "nbformat_minor": 2
}
